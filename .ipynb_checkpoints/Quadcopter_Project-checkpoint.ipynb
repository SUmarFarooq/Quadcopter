{
 "cells": [
  {
   "cell_type": "markdown",
   "metadata": {},
   "source": [
    "# Project: Train a Quadcopter How to Fly\n",
    "\n",
    "Design an agent to fly a quadcopter, and then train it using a reinforcement learning algorithm of your choice! \n",
    "\n",
    "Try to apply the techniques you have learnt, but also feel free to come up with innovative ideas and test them."
   ]
  },
  {
   "cell_type": "markdown",
   "metadata": {},
   "source": [
    "## Instructions\n",
    "\n",
    "Take a look at the files in the directory to better understand the structure of the project. \n",
    "\n",
    "- `task.py`: Define your task (environment) in this file.\n",
    "- `agents/`: Folder containing reinforcement learning agents.\n",
    "    - `policy_search.py`: A sample agent has been provided here.\n",
    "    - `agent.py`: Develop your agent here.\n",
    "- `physics_sim.py`: This file contains the simulator for the quadcopter.  **DO NOT MODIFY THIS FILE**.\n",
    "\n",
    "For this project, you will define your own task in `task.py`.  Although we have provided a example task to get you started, you are encouraged to change it.  Later in this notebook, you will learn more about how to amend this file.\n",
    "\n",
    "You will also design a reinforcement learning agent in `agent.py` to complete your chosen task.  \n",
    "\n",
    "You are welcome to create any additional files to help you to organize your code.  For instance, you may find it useful to define a `model.py` file defining any needed neural network architectures.\n",
    "\n",
    "## Controlling the Quadcopter\n",
    "\n",
    "We provide a sample agent in the code cell below to show you how to use the sim to control the quadcopter.  This agent is even simpler than the sample agent that you'll examine (in `agents/policy_search.py`) later in this notebook!\n",
    "\n",
    "The agent controls the quadcopter by setting the revolutions per second on each of its four rotors.  The provided agent in the `Basic_Agent` class below always selects a random action for each of the four rotors.  These four speeds are returned by the `act` method as a list of four floating-point numbers.  \n",
    "\n",
    "For this project, the agent that you will implement in `agents/agent.py` will have a far more intelligent method for selecting actions!"
   ]
  },
  {
   "cell_type": "code",
   "execution_count": null,
   "metadata": {},
   "outputs": [],
   "source": []
  },
  {
   "cell_type": "markdown",
   "metadata": {},
   "source": [
    "Run the code cell below to have the agent select actions to control the quadcopter.  \n",
    "\n",
    "Feel free to change the provided values of `runtime`, `init_pose`, `init_velocities`, and `init_angle_velocities` below to change the starting conditions of the quadcopter.\n",
    "\n",
    "The `labels` list below annotates statistics that are saved while running the simulation.  All of this information is saved in a text file `data.txt` and stored in the dictionary `results`.  "
   ]
  },
  {
   "cell_type": "code",
   "execution_count": 1,
   "metadata": {},
   "outputs": [
    {
     "name": "stderr",
     "output_type": "stream",
     "text": [
      "/Users/Syed.Farooq/anaconda3/lib/python3.6/site-packages/h5py/__init__.py:36: FutureWarning: Conversion of the second argument of issubdtype from `float` to `np.floating` is deprecated. In future, it will be treated as `np.float64 == np.dtype(float).type`.\n",
      "  from ._conv import register_converters as _register_converters\n",
      "Using TensorFlow backend.\n"
     ]
    },
    {
     "name": "stdout",
     "output_type": "stream",
     "text": [
      "simpose [ 0.          0.         10.0019423   1.10134436  0.32180855  0.        ]\n",
      "simpose [-1.23482514e-03  3.30300220e-03  1.00055406e+01  2.15855349e+00\n",
      "  5.04182881e-01  0.00000000e+00]\n",
      "simpose [-5.59032222e-03  1.27536412e-02  1.00049957e+01  3.14372588e+00\n",
      "  1.55048683e-01  0.00000000e+00]\n",
      "simpose [-0.01243486  0.02504239  9.99477507  4.03164978  5.27861706  0.        ]\n",
      "simpose [-0.01658834  0.03570002  9.97545186  4.80484981  3.17294818  0.        ]\n",
      "simpose [-0.01732526  0.04861538  9.9505177   5.45190853  0.14057477  0.        ]\n",
      "simpose [-0.01848407  0.06257258  9.92388416  5.97014548  2.58944489  0.        ]\n",
      "simpose [-0.02222552  0.07470936  9.89276492  0.07659814  4.40763631  0.        ]\n",
      "simpose [-0.02427704  0.08777472  9.85341558  0.34471455  5.76793025  0.        ]\n",
      "simpose [-0.02069082  0.10188336  9.81217167  0.50176336  0.53133648  0.        ]\n",
      "simpose [-0.01716545  0.11872772  9.77313087  0.56192098  1.37847757  0.        ]\n",
      "simpose [-0.01944268  0.13755552  9.73374396  0.53914624  2.10302173  0.        ]\n",
      "simpose [-0.02890552  0.15573615  9.68937734  0.44683546  2.75431339  0.        ]\n",
      "simpose [-0.04318171  0.1713269   9.63617433  0.29758738  3.36481654  0.        ]\n",
      "simpose [-0.05805834  0.1842477   9.57224277  0.10233036  3.95305976  0.        ]\n",
      "simpose [-0.06924096  0.19578548  9.49818245  6.15396797  4.5297904   0.        ]\n",
      "simpose [-0.07373854  0.20713223  9.41694278  5.89329974  5.10087932  0.        ]\n",
      "simpose [-0.07081959  0.2179754   9.33255821  5.60982687  5.66954036  0.        ]\n",
      "simpose [-0.06215048  0.22625385  9.24810601  5.30849704  6.23751445  0.        ]\n",
      "simpose [-0.05112372  0.22935204  9.16428673  4.99345523  0.52229761  0.        ]\n",
      "simpose [-0.04186367  0.22599067  9.07952109  4.66778995  1.0906059   0.        ]\n",
      "simpose [-0.03800712  0.21757463  8.9915338   4.33378479  1.65934764  0.        ]\n",
      "simpose [-0.04150082  0.2077284   8.89952823  3.99338426  2.22852919  0.        ]\n",
      "simpose [-0.05192155  0.20008384  8.80521133  3.64798545  2.79809779  0.        ]\n",
      "simpose [-0.06663185  0.19601315  8.71161062  3.29886226  3.36799435  0.        ]\n",
      "simpose [-0.08176188  0.19424647  8.62073703  2.94658437  3.9381542   0.        ]\n",
      "simpose [-0.09333731  0.19254108  8.53206739  2.59182796  4.50852138  0.        ]\n",
      "simpose [-0.09836479  0.1899705   8.44268483  2.23516317  5.07905122  0.        ]\n",
      "simpose [-0.09594101  0.18819737  8.34918626  1.87688929  5.64970908  0.        ]\n",
      "simpose [-0.08758843  0.19060066  8.25007935  1.51731672  6.22046541  0.        ]\n",
      "simpose [-0.07669181  0.19990827  8.14652013  1.1566704   0.50811163  0.        ]\n",
      "simpose [-0.06744017  0.2161595   8.04083322  0.79519796  1.07900195  0.        ]\n",
      "simpose [-0.0635068   0.23669423  7.93402136  0.43306009  1.64993554  0.        ]\n",
      "simpose [-0.06688835  0.25824606  7.82427427  0.07037196  2.22090093  0.        ]\n",
      "simpose [-0.07711392  0.27941412  7.70792204  5.99043987  2.79187836  0.        ]\n",
      "simpose [-0.09150918  0.30137143  7.58209767  5.62696291  3.36286696  0.        ]\n",
      "simpose [-0.10630646  0.32639947  7.44633651  5.26320743  3.93386576  0.        ]\n",
      "simpose [-0.11752444  0.35571384  7.30235915  4.8991553   4.50484656  0.        ]\n",
      "simpose [-0.12214316  0.3879204   7.15261578  4.53486292  5.07581214  0.        ]\n",
      "simpose [-0.11928551  0.41952203  6.99807933  4.1703692   5.64676721  0.        ]\n",
      "simpose [-0.11050137  0.44728286  6.83729032  3.80574418  6.21767351  0.        ]\n",
      "simpose [-0.09920398  0.47044788  6.66784504  3.44100624  0.50536012  0.        ]\n",
      "simpose [-0.0894234   0.49071457  6.48868885  3.07617167  1.07620858  0.        ]\n",
      "simpose [-0.08483859  0.51025445  6.30123875  2.71123593  1.64705965  0.        ]\n",
      "simpose [-0.08755804  0.52965476  6.10898747  2.34621977  2.21791083  0.        ]\n",
      "simpose [-0.09700918  0.54723712  5.91522869  1.98114555  2.78876166  0.        ]\n",
      "simpose [-0.11060455  0.56014782  5.72104605  1.61601699  3.35956411  0.        ]\n",
      "simpose [-0.12462916  0.56618926  5.52523977  1.25084331  3.93033071  0.        ]\n",
      "simpose [-0.13504026  0.56575653  5.32562876  0.88562637  4.50107677  0.        ]\n",
      "simpose [-0.13883617  0.56196646  5.12142616  0.52038185  5.07176223  0.        ]\n",
      "simpose [-0.13534167  0.55823675  4.91458518  0.15511506  5.6424026   0.        ]\n",
      "simpose [-0.12659367  0.55564065  4.70800113  6.07302137  6.21300579  0.        ]\n",
      "simpose [-0.11583943  0.55282583  4.50304759  5.70775181  0.50041184  0.        ]\n",
      "simpose [-0.10653179  0.54768503  4.29936517  5.34249016  1.07099304  0.        ]\n",
      "simpose [-0.10226264  0.5392617   4.09486568  4.97723543  1.64156837  0.        ]\n",
      "simpose [-0.10527658  0.52941821  3.88668819  4.61199668  2.21215538  0.        ]\n",
      "simpose [-0.11529734  0.52211922  3.67381593  4.2467668   2.78275317  0.        ]\n",
      "simpose [-0.12971234  0.52048684  3.45796495  3.88154538  3.35335859  0.        ]\n",
      "simpose [-0.14470973  0.52449203  3.24159722  3.51632786  3.92397375  0.        ]\n",
      "simpose [-0.15651929  0.53173959  3.02556747  3.15111765  4.49459396  0.        ]\n",
      "simpose [-0.16199267  0.53988663  2.8080149   2.78591496  5.06521857  0.        ]\n",
      "simpose [-0.16022383  0.54868437  2.58529927  2.42067885  5.63586119  0.        ]\n",
      "simpose [-0.15310015  0.56013555  2.35513342  2.05540511  6.20652139  0.        ]\n",
      "simpose [-0.14374934  0.57693302  2.11785975  1.69009277  0.4940186   0.        ]\n",
      "simpose [-0.1359714   0.60052125  1.87563728  1.32478206  1.06477233  0.        ]\n",
      "simpose [-0.13344735  0.62922296  1.63081459  0.95947888  1.6355772   0.        ]\n",
      "simpose [-0.13821585  0.65894733  1.38338099  0.59418828  2.20641813  0.        ]\n",
      "simpose [-0.14957878  0.68649161  1.13049012  0.22893724  2.7772414   0.        ]\n",
      "simpose [-0.16451335  0.71186742  0.86958631  6.14689753  3.34805536  0.        ]\n",
      "simpose [-0.17978605  0.73691635  0.60020885  5.78170331  3.91886575  0.        ]\n",
      "simpose [-0.19201041  0.76311164  0.32288191  5.4165625   4.48965379  0.        ]\n",
      "simpose [-0.19783362  0.79018838  0.03920649  5.0514598   5.06042942  0.        ]\n",
      "simpose [-0.19620483  0.81567806  0.          4.68639334  5.63119157  0.        ]\n",
      "simpose [-0.18863432  0.83646946  0.          4.32131847  6.20193246  0.        ]\n",
      "simpose [-0.17840122  0.85114136  0.          3.95623431  0.48947332  0.        ]\n"
     ]
    }
   ],
   "source": [
    "%load_ext autoreload\n",
    "%autoreload 2\n",
    "\n",
    "import csv\n",
    "import numpy as np\n",
    "from task import Task\n",
    "\n",
    "from agents.agent import DDPG\n",
    "\n",
    "# Modify the values below to give the quadcopter a different starting position.\n",
    "runtime = 5.                                     # time limit of the episode\n",
    "init_pose = np.array([0., 0., 10., 0., 0., 0.])  # initial pose\n",
    "init_velocities = np.array([0., 0., 0.])         # initial velocities\n",
    "init_angle_velocities = np.array([0., 0., 0.])   # initial angle velocities\n",
    "file_output = 'data.txt'                         # file name for saved results\n",
    "\n",
    "# Setup\n",
    "task = Task(init_pose, init_velocities, init_angle_velocities, runtime)\n",
    "agent = DDPG(task)\n",
    "done = False\n",
    "labels = ['time', 'x', 'y', 'z', 'phi', 'theta', 'psi', 'x_velocity',\n",
    "          'y_velocity', 'z_velocity', 'phi_velocity', 'theta_velocity',\n",
    "          'psi_velocity', 'rotor_speed1', 'rotor_speed2', 'rotor_speed3', 'rotor_speed4']\n",
    "results = {x : [] for x in labels}\n",
    "\n",
    "state = agent.reset_episode()\n",
    "# Run the simulation, and save the results.\n",
    "with open(file_output, 'w') as csvfile:\n",
    "    writer = csv.writer(csvfile)\n",
    "    writer.writerow(labels)\n",
    "    while True:\n",
    "        rotor_speeds = agent.act(state)\n",
    "        _, _, done = task.step(rotor_speeds)\n",
    "        to_write = [task.sim.time] + list(task.sim.pose) + list(task.sim.v) + list(task.sim.angular_v) + list(rotor_speeds)\n",
    "        for ii in range(len(labels)):\n",
    "            results[labels[ii]].append(to_write[ii])\n",
    "        writer.writerow(to_write)\n",
    "        if done:\n",
    "            break"
   ]
  },
  {
   "cell_type": "markdown",
   "metadata": {},
   "source": [
    "Run the code cell below to visualize how the position of the quadcopter evolved during the simulation."
   ]
  },
  {
   "cell_type": "code",
   "execution_count": 2,
   "metadata": {},
   "outputs": [
    {
     "data": {
      "image/png": "[encoded data removed]",
      "text/plain": [
       "<Figure size 432x288 with 1 Axes>"
      ]
     },
     "metadata": {},
     "output_type": "display_data"
    }
   ],
   "source": [
    "import matplotlib.pyplot as plt\n",
    "%matplotlib inline\n",
    "\n",
    "plt.plot(results['time'], results['x'], label='x')\n",
    "plt.plot(results['time'], results['y'], label='y')\n",
    "plt.plot(results['time'], results['z'], label='z')\n",
    "plt.legend()\n",
    "_ = plt.ylim()"
   ]
  },
  {
   "cell_type": "markdown",
   "metadata": {},
   "source": [
    "The next code cell visualizes the velocity of the quadcopter."
   ]
  },
  {
   "cell_type": "code",
   "execution_count": 3,
   "metadata": {},
   "outputs": [
    {
     "data": {
      "image/png": "[encoded data removed]",
      "text/plain": [
       "<Figure size 432x288 with 1 Axes>"
      ]
     },
     "metadata": {},
     "output_type": "display_data"
    }
   ],
   "source": [
    "plt.plot(results['time'], results['x_velocity'], label='x_hat')\n",
    "plt.plot(results['time'], results['y_velocity'], label='y_hat')\n",
    "plt.plot(results['time'], results['z_velocity'], label='z_hat')\n",
    "plt.legend()\n",
    "_ = plt.ylim()"
   ]
  },
  {
   "cell_type": "markdown",
   "metadata": {},
   "source": [
    "Next, you can plot the Euler angles (the rotation of the quadcopter over the $x$-, $y$-, and $z$-axes),"
   ]
  },
  {
   "cell_type": "code",
   "execution_count": 4,
   "metadata": {},
   "outputs": [
    {
     "data": {
      "image/png": "[encoded data removed]",
      "text/plain": [
       "<Figure size 432x288 with 1 Axes>"
      ]
     },
     "metadata": {},
     "output_type": "display_data"
    }
   ],
   "source": [
    "plt.plot(results['time'], results['phi'], label='phi')\n",
    "plt.plot(results['time'], results['theta'], label='theta')\n",
    "plt.plot(results['time'], results['psi'], label='psi')\n",
    "plt.legend()\n",
    "_ = plt.ylim()"
   ]
  },
  {
   "cell_type": "markdown",
   "metadata": {},
   "source": [
    "before plotting the velocities (in radians per second) corresponding to each of the Euler angles."
   ]
  },
  {
   "cell_type": "code",
   "execution_count": 5,
   "metadata": {},
   "outputs": [
    {
     "data": {
      "image/png": "[encoded data removed]",
      "text/plain": [
       "<Figure size 432x288 with 1 Axes>"
      ]
     },
     "metadata": {},
     "output_type": "display_data"
    }
   ],
   "source": [
    "plt.plot(results['time'], results['phi_velocity'], label='phi_velocity')\n",
    "plt.plot(results['time'], results['theta_velocity'], label='theta_velocity')\n",
    "plt.plot(results['time'], results['psi_velocity'], label='psi_velocity')\n",
    "plt.legend()\n",
    "_ = plt.ylim()"
   ]
  },
  {
   "cell_type": "markdown",
   "metadata": {},
   "source": [
    "Finally, you can use the code cell below to print the agent's choice of actions.  "
   ]
  },
  {
   "cell_type": "code",
   "execution_count": 6,
   "metadata": {},
   "outputs": [
    {
     "data": {
      "image/png": "[encoded data removed]",
      "text/plain": [
       "<Figure size 432x288 with 1 Axes>"
      ]
     },
     "metadata": {},
     "output_type": "display_data"
    }
   ],
   "source": [
    "plt.plot(results['time'], results['rotor_speed1'], label='Rotor 1 revolutions / second')\n",
    "plt.plot(results['time'], results['rotor_speed2'], label='Rotor 2 revolutions / second')\n",
    "plt.plot(results['time'], results['rotor_speed3'], label='Rotor 3 revolutions / second')\n",
    "plt.plot(results['time'], results['rotor_speed4'], label='Rotor 4 revolutions / second')\n",
    "plt.legend()\n",
    "_ = plt.ylim()"
   ]
  },
  {
   "cell_type": "markdown",
   "metadata": {},
   "source": [
    "When specifying a task, you will derive the environment state from the simulator.  Run the code cell below to print the values of the following variables at the end of the simulation:\n",
    "- `task.sim.pose` (the position of the quadcopter in ($x,y,z$) dimensions and the Euler angles),\n",
    "- `task.sim.v` (the velocity of the quadcopter in ($x,y,z$) dimensions), and\n",
    "- `task.sim.angular_v` (radians/second for each of the three Euler angles)."
   ]
  },
  {
   "cell_type": "code",
   "execution_count": 7,
   "metadata": {},
   "outputs": [
    {
     "name": "stdout",
     "output_type": "stream",
     "text": [
      "[-0.17840122  0.85114136  0.          3.95623431  0.48947332  0.        ]\n",
      "[  0.52655107   0.581396   -15.24978148]\n",
      "[-18.25501856  28.53594257   0.        ]\n"
     ]
    }
   ],
   "source": [
    "# the pose, velocity, and angular velocity of the quadcopter at the end of the episode\n",
    "print(task.sim.pose)\n",
    "print(task.sim.v)\n",
    "print(task.sim.angular_v)"
   ]
  },
  {
   "cell_type": "markdown",
   "metadata": {},
   "source": [
    "In the sample task in `task.py`, we use the 6-dimensional pose of the quadcopter to construct the state of the environment at each timestep.  However, when amending the task for your purposes, you are welcome to expand the size of the state vector by including the velocity information.  You can use any combination of the pose, velocity, and angular velocity - feel free to tinker here, and construct the state to suit your task.\n",
    "\n",
    "## The Task\n",
    "\n",
    "A sample task has been provided for you in `task.py`.  Open this file in a new window now. \n",
    "\n",
    "The `__init__()` method is used to initialize several variables that are needed to specify the task.  \n",
    "- The simulator is initialized as an instance of the `PhysicsSim` class (from `physics_sim.py`).  \n",
    "- Inspired by the methodology in the original DDPG paper, we make use of action repeats.  For each timestep of the agent, we step the simulation `action_repeats` timesteps.  If you are not familiar with action repeats, please read the **Results** section in [the DDPG paper](https://arxiv.org/abs/1509.02971).\n",
    "- We set the number of elements in the state vector.  For the sample task, we only work with the 6-dimensional pose information.  To set the size of the state (`state_size`), we must take action repeats into account.  \n",
    "- The environment will always have a 4-dimensional action space, with one entry for each rotor (`action_size=4`). You can set the minimum (`action_low`) and maximum (`action_high`) values of each entry here.\n",
    "- The sample task in this provided file is for the agent to reach a target position.  We specify that target position as a variable.\n",
    "\n",
    "The `reset()` method resets the simulator.  The agent should call this method every time the episode ends.  You can see an example of this in the code cell below.\n",
    "\n",
    "The `step()` method is perhaps the most important.  It accepts the agent's choice of action `rotor_speeds`, which is used to prepare the next state to pass on to the agent.  Then, the reward is computed from `get_reward()`.  The episode is considered done if the time limit has been exceeded, or the quadcopter has travelled outside of the bounds of the simulation.\n",
    "\n",
    "In the next section, you will learn how to test the performance of an agent on this task."
   ]
  },
  {
   "cell_type": "markdown",
   "metadata": {},
   "source": [
    "## The Agent\n",
    "\n",
    "The sample agent given in `agents/policy_search.py` uses a very simplistic linear policy to directly compute the action vector as a dot product of the state vector and a matrix of weights. Then, it randomly perturbs the parameters by adding some Gaussian noise, to produce a different policy. Based on the average reward obtained in each episode (`score`), it keeps track of the best set of parameters found so far, how the score is changing, and accordingly tweaks a scaling factor to widen or tighten the noise.\n",
    "\n",
    "Run the code cell below to see how the agent performs on the sample task."
   ]
  },
  {
   "cell_type": "code",
   "execution_count": 44,
   "metadata": {},
   "outputs": [],
   "source": [
    "from mpl_toolkits.mplot3d import Axes3D\n",
    "import matplotlib.pyplot as plt\n",
    "# Make sure to change from notebook to inline after your tests\n",
    "%matplotlib inline\n",
    "import time\n",
    "\n",
    "class AnimatedPlot():\n",
    "    def __init__(self):\n",
    "        \"\"\"Initialize parameters\"\"\"\n",
    "        self.X, self.Y, self.Z = [], [], []\n",
    "\n",
    "        self.fig = plt.figure(figsize = (14,8))\n",
    "        self.ax = self.fig.add_subplot(111, projection='3d')\n",
    "\n",
    "    def plot(self, task, i_episode=None):\n",
    "        pose = task.sim.pose[:3]\n",
    "        self.X.append(pose[0])\n",
    "        self.Y.append(pose[1])\n",
    "        self.Z.append(pose[2])\n",
    "        self.ax.clear()\n",
    "        if i_episode:\n",
    "            plt.title(\"Episode {}\".format(i_episode))\n",
    "\n",
    "        if len(self.X)>1:\n",
    "            self.ax.scatter(self.X[:-1], self.Y[:-1], self.Z[:-1], c='k', alpha=0.3)\n",
    "        if task.sim.done and task.sim.runtime > task.sim.time:\n",
    "            # Colision\n",
    "            self.ax.scatter(pose[0], pose[1], pose[2], c='r', marker='*', linewidths=5)\n",
    "        else:\n",
    "            self.ax.scatter(pose[0], pose[1], pose[2], c='k', marker='s', linewidths=5)\n",
    "\n",
    "        self.fig.canvas.draw()\n",
    "        plt.pause(0.5)"
   ]
  },
  {
   "cell_type": "code",
   "execution_count": 48,
   "metadata": {
    "scrolled": false
   },
   "outputs": [
    {
     "name": "stdout",
     "output_type": "stream",
     "text": [
      "averagescore:  13.403946922423726\n",
      "position [ 5.07523821 -0.85945649  0.51007116  1.68152784  4.050089    0.\n",
      "  5.16547007 -0.87617954  0.22717177  1.98810695  3.75258155  0.\n",
      "  5.26018217 -0.89662877  0.          2.27006604  3.41688743  0.        ]\n",
      "Episode =    1, score =  13.404 (best =  13.404)averagescore:  13.4106275243515\n",
      "position [ 5.05051912 -0.8172934   0.51088815  1.65458479  4.02116723  0.\n",
      "  5.14109332 -0.83370821  0.2278708   1.95998132  3.72571496  0.\n",
      "  5.23597356 -0.85401387  0.          2.24109741  3.39211697  0.        ]\n",
      "Episode =    2, score =  13.417 (best =  13.417)averagescore:  13.483244456077031\n",
      "position [ 5.34899638 -0.82832984  0.38959783  2.40878041  3.37197186  0.\n",
      "  5.47821698 -0.84521454  0.11006326  2.95108273  3.25249602  0.\n",
      "  5.60843094 -0.86271425  0.          3.47735378  3.13286114  0.        ]\n",
      "Episode =    3, score =  13.628 (best =  13.628)averagescore:  9.404792035700213\n",
      "position [ 0.12392526 -0.50974665  0.27492405  4.66208421  6.24739782  0.\n",
      "  0.12871386 -0.51662357  0.          5.21454038  6.24696069  0.\n",
      "  0.13365077 -0.52772874  0.          5.76735774  6.24653183  0.        ]\n",
      "Episode =    4, score =  -2.831 (best =  13.628)averagescore:  6.959963502940832\n",
      "position [ 1.28102699e-03 -3.64285962e-01  5.23859296e-01  5.68669307e+00\n",
      "  6.28283621e+00  0.00000000e+00  1.33172548e-03 -3.75481956e-01\n",
      "  2.43645860e-01  6.25973188e+00  6.28283308e+00  0.00000000e+00\n",
      "  1.38300288e-03 -3.87606769e-01  0.00000000e+00  5.49791699e-01\n",
      "  6.28283002e+00  0.00000000e+00]\n",
      "Episode =    5, score =  -2.819 (best =  13.628)averagescore:  6.008968572583927\n",
      "position [4.11045421e-06 3.02707995e-01 0.00000000e+00 2.25966606e+00\n",
      " 6.28314742e+00 0.00000000e+00 4.96661391e-06 3.10479430e-01\n",
      " 0.00000000e+00 2.83584255e+00 6.28314514e+00 0.00000000e+00\n",
      " 5.90780060e-06 3.20053615e-01 0.00000000e+00 3.41148236e+00\n",
      " 6.28314286e+00 0.00000000e+00]\n",
      "Episode =    6, score =   1.254 (best =  13.628)averagescore:  5.48499430445141\n",
      "position [2.08843265e-05 5.18062792e-01 0.00000000e+00 2.54163077e+00\n",
      " 6.28317912e+00 0.00000000e+00 2.16914267e-05 5.30057230e-01\n",
      " 0.00000000e+00 3.11811555e+00 6.28317902e+00 0.00000000e+00\n",
      " 2.25078532e-05 5.42864430e-01 0.00000000e+00 3.69449326e+00\n",
      " 6.28317891e+00 0.00000000e+00]\n",
      "Episode =    7, score =   2.341 (best =  13.628)averagescore:  5.09253269028167\n",
      "position [-3.61550972e-06  5.36948456e-01  0.00000000e+00  2.56236422e+00\n",
      "  6.28315244e+00  0.00000000e+00 -2.62045535e-06  5.49203699e-01\n",
      "  0.00000000e+00  3.13893324e+00  6.28315101e+00  0.00000000e+00\n",
      " -1.57676119e-06  5.62212792e-01  0.00000000e+00  3.71536088e+00\n",
      "  6.28314958e+00  0.00000000e+00]\n",
      "Episode =    8, score =   2.345 (best =  13.628)averagescore:  4.787585039144029\n",
      "position [1.56820610e-05 5.51737309e-01 0.00000000e+00 2.61262007e+00\n",
      " 6.28249516e+00 0.00000000e+00 2.72465742e-05 5.63783866e-01\n",
      " 0.00000000e+00 3.18868867e+00 6.28243178e+00 0.00000000e+00\n",
      " 3.98071339e-05 5.76458508e-01 0.00000000e+00 3.76486102e+00\n",
      " 6.28236840e+00 0.00000000e+00]\n",
      "Episode =    9, score =   2.348 (best =  13.628)averagescore:  4.543526952244315\n",
      "position [4.41323497e-06 5.44990954e-01 0.00000000e+00 2.57757502e+00\n",
      " 6.28317366e+00 0.00000000e+00 4.83987973e-06 5.57442338e-01\n",
      " 0.00000000e+00 3.15409498e+00 6.28317308e+00 0.00000000e+00\n",
      " 5.28358634e-06 5.70607808e-01 0.00000000e+00 3.73057991e+00\n",
      " 6.28317249e+00 0.00000000e+00]\n",
      "Episode =   10, score =   2.347 (best =  13.628)averagescore:  4.343702519344128\n",
      "position [-4.96894217e-05  5.40057728e-01  0.00000000e+00  2.84339097e+00\n",
      "  9.90431540e-05  0.00000000e+00 -5.25284241e-05  5.50780599e-01\n",
      "  0.00000000e+00  3.56601957e+00  2.15200932e-04  0.00000000e+00\n",
      " -5.55022545e-05  5.61605433e-01  0.00000000e+00  4.20640117e+00\n",
      "  4.26424513e-04  0.00000000e+00]\n",
      "Episode =   11, score =   2.345 (best =  13.628)averagescore:  4.1774431087165995\n",
      "position [7.33507046e-05 5.51397138e-01 0.00000000e+00 2.58246805e+00\n",
      " 6.28313047e+00 0.00000000e+00 7.78834048e-05 5.63998407e-01\n",
      " 0.00000000e+00 3.15921964e+00 6.28312929e+00 0.00000000e+00\n",
      " 8.24954410e-05 5.77301103e-01 0.00000000e+00 3.73595134e+00\n",
      " 6.28312810e+00 0.00000000e+00]\n",
      "Episode =   12, score =   2.349 (best =  13.628)averagescore:  4.054760552714144\n",
      "position [-0.39873535  1.60588138  0.29743801  4.61606551  0.63941401  0.\n",
      " -0.45569676  1.62613694  0.          4.7106907   0.67423832  0.\n",
      " -0.51861707  1.63891056  0.          4.80350362  0.70915557  0.        ]\n",
      "Episode =   13, score =   2.583 (best =  13.628)averagescore:  3.442842427233039\n",
      "position [-3.75107926e-02 -3.63252914e+01  6.92418253e+01  4.94111106e+00\n",
      "  6.62800236e-04  0.00000000e+00 -3.78640500e-02 -3.67205668e+01\n",
      "  6.93330606e+01  4.93238558e+00  6.63686872e-04  0.00000000e+00\n",
      " -3.82184230e-02 -3.71174818e+01  6.94207461e+01  4.92362302e+00\n",
      "  6.64610624e-04  0.00000000e+00]\n",
      "Episode =   14, score =  -4.512 (best =  13.628)averagescore:  2.887443135324977\n",
      "position [-1.32720320e-03  1.45691160e+01  8.00425858e+01  5.82625227e-01\n",
      "  6.28310810e+00  0.00000000e+00 -1.33038412e-03  1.47733600e+01\n",
      "  8.03359948e+01  5.87657297e-01  6.28310664e+00  0.00000000e+00\n",
      " -1.33329459e-03  1.49795196e+01  8.06283738e+01  5.92786868e-01\n",
      "  6.28310519e+00  0.00000000e+00]\n",
      "Episode =   15, score =  -4.888 (best =  13.628)averagescore:  2.3967785157381964\n",
      "position [5.84808367e-04 3.45378791e+01 7.07786577e+01 1.27218047e+00\n",
      " 6.28312418e+00 0.00000000e+00 5.98402978e-04 3.49195103e+01\n",
      " 7.08967388e+01 1.28017717e+00 6.28312378e+00 0.00000000e+00\n",
      " 6.12115846e-04 3.53029867e+01 7.10114561e+01 1.28816867e+00\n",
      " 6.28312335e+00 0.00000000e+00]\n",
      "Episode =   16, score =  -4.963 (best =  13.628)averagescore:  1.9629732552399308\n",
      "position [1.10459537e-02 2.66166696e+01 7.78419115e+01 1.59574496e-01\n",
      " 6.28270768e+00 0.00000000e+00 1.12222434e-02 2.68295646e+01\n",
      " 7.81511531e+01 1.56102112e-01 6.28270520e+00 0.00000000e+00\n",
      " 1.14005067e-02 2.70425265e+01 7.84606336e+01 1.52513973e-01\n",
      " 6.28270272e+00 0.00000000e+00]\n",
      "Episode =   17, score =  -4.978 (best =  13.628)averagescore:  1.5808183211402742\n",
      "position [-7.82589142e-03  1.68399975e+00  8.20377056e+01  5.31498078e+00\n",
      "  1.30745283e-04  0.00000000e+00 -7.91300725e-03  1.50780538e+00\n",
      "  8.23556423e+01  5.30387998e+00  1.31444935e-04  0.00000000e+00\n",
      " -8.00072489e-03  1.32747482e+00  8.26717355e+01  5.29279323e+00\n",
      "  1.32144587e-04  0.00000000e+00]\n",
      "Episode =   18, score =  -4.916 (best =  13.628)averagescore:  1.243036868258313\n",
      "position [ 1.00995283e-04 -1.81866043e+00  8.18718855e+01  5.33423924e+00\n",
      "  3.60154981e-05  0.00000000e+00  9.81716597e-05 -2.00262103e+00\n",
      "  8.21843703e+01  5.32338136e+00  3.65077160e-05  0.00000000e+00\n",
      "  9.51891971e-05 -2.19044330e+00  8.24950575e+01  5.31250645e+00\n",
      "  3.69989671e-05  0.00000000e+00]\n",
      "Episode =   19, score =  -4.837 (best =  13.628)averagescore:  0.9524425078642601\n",
      "position [-2.09263505e-03 -3.04934420e+01  7.26143586e+01  5.00084560e+00\n",
      "  8.42354959e-05  0.00000000e+00 -2.12015452e-03 -3.08659634e+01\n",
      "  7.27485425e+01  4.99477809e+00  8.47240558e-05  0.00000000e+00\n",
      " -2.14785014e-03 -3.12404894e+01  7.28793773e+01  4.98888888e+00\n",
      "  8.52126157e-05  0.00000000e+00]\n",
      "Episode =   20, score =  -4.569 (best =  13.628)averagescore:  0.6701147915552772\n",
      "position [-5.13030938e-03  3.42730708e+01  7.29761965e+01  6.42250689e-01\n",
      "  3.28848156e-04  0.00000000e+00 -5.21898550e-03  3.46069896e+01\n",
      "  7.31871407e+01  6.43495024e-01  3.31329108e-04  0.00000000e+00\n",
      " -5.30867474e-03  3.49423910e+01  7.33968851e+01  6.44743044e-01\n",
      "  3.33813958e-04  0.00000000e+00]\n",
      "Episode =   21, score =  -4.976 (best =  13.628)averagescore:  0.4293303483325454\n",
      "position [-2.95952238e-03 -3.12296705e+01  6.90908667e+01  4.19804297e+00\n",
      "  1.17935059e-05  0.00000000e+00 -2.98922004e-03 -3.16732214e+01\n",
      "  6.90845427e+01  4.18199839e+00  1.08724406e-05  0.00000000e+00\n",
      " -3.01894472e-03 -3.21183135e+01  6.90721970e+01  4.16599099e+00\n",
      "  9.94210835e-06  0.00000000e+00]\n",
      "Episode =   22, score =  -4.627 (best =  13.628)averagescore:  0.19754410970508698\n",
      "position [1.82245558e-02 9.64938183e+00 8.15100019e+01 2.68751765e-01\n",
      " 6.28263775e+00 0.00000000e+00 1.84628092e-02 9.75227598e+00\n",
      " 8.18425323e+01 2.72398978e-01 6.28263552e+00 0.00000000e+00\n",
      " 1.87031534e-02 9.85618643e+00 8.21748116e+01 2.76098651e-01\n",
      " 6.28263333e+00 0.00000000e+00]\n"
     ]
    },
    {
     "name": "stdout",
     "output_type": "stream",
     "text": [
      "Episode =   23, score =  -4.902 (best =  13.628)averagescore:  -0.005861143823671533\n",
      "position [-1.28000999e-04 -1.58955507e+01  7.94623153e+01  5.90557434e+00\n",
      "  6.28312100e+00  0.00000000e+00 -1.24789865e-04 -1.61213998e+01\n",
      "  7.97497280e+01  5.90951459e+00  6.28311961e+00  0.00000000e+00\n",
      " -1.21335649e-04 -1.63488503e+01  8.00366052e+01  5.91356392e+00\n",
      "  6.28311821e+00  0.00000000e+00]\n",
      "Episode =   24, score =  -4.684 (best =  13.628)averagescore:  -0.1941262319024273\n",
      "position [-2.56369617e-03 -9.03861585e+00  8.13105417e+01  6.14724539e+00\n",
      "  1.19107441e-04  0.00000000e+00 -2.60240839e-03 -9.16482248e+00\n",
      "  8.16396003e+01  6.15195637e+00  1.21022428e-04  0.00000000e+00\n",
      " -2.64159982e-03 -9.29170806e+00  8.19686707e+01  6.15675842e+00\n",
      "  1.23029060e-04  0.00000000e+00]\n",
      "Episode =   25, score =  -4.712 (best =  13.628)averagescore:  -0.3653613336408353\n",
      "position [ 5.35277125e-03 -1.14562500e+01  8.13966113e+01  6.19205323e+00\n",
      "  6.28287874e+00  0.00000000e+00  5.44422809e-03 -1.15593659e+01\n",
      "  8.17340914e+01  6.19090547e+00  6.28287590e+00  0.00000000e+00\n",
      "  5.53687988e-03 -1.16629526e+01  8.20715005e+01  6.18970379e+00\n",
      "  6.28287305e+00  0.00000000e+00]\n",
      "Episode =   26, score =  -4.646 (best =  13.628)averagescore:  -0.5214463740421436\n",
      "position [ 7.43725279e-04 -1.48746290e+01  8.18561458e+01  1.17822193e-02\n",
      "  6.28310286e+00  0.00000000e+00  7.59755665e-04 -1.49695421e+01\n",
      "  8.22079003e+01  6.14250464e-03  6.28310147e+00  0.00000000e+00\n",
      "  7.76093858e-04 -1.50646386e+01  8.25594349e+01  4.55614788e-04\n",
      "  6.28310005e+00  0.00000000e+00]\n",
      "Episode =   27, score =  -4.580 (best =  13.628)averagescore:  -0.6624726654386149\n",
      "position [-3.83347546e-04 -4.94941885e+01  5.49914545e+01  4.31219669e+00\n",
      "  3.05403756e-05  0.00000000e+00 -3.87784064e-04 -4.99339960e+01\n",
      "  5.48928881e+01  4.30139977e+00  3.14251090e-05  0.00000000e+00\n",
      " -3.92224527e-04 -5.03738594e+01  5.47902050e+01  4.29063827e+00\n",
      "  3.23099377e-05  0.00000000e+00]\n",
      "Episode =   28, score =  -4.470 (best =  13.628)averagescore:  -0.7962365479328883\n",
      "position [-6.56468446e-03 -2.92605102e+01  7.50073107e+01  5.65770677e+00\n",
      "  2.55602437e-04  0.00000000e+00 -6.65685762e-03 -2.95827913e+01\n",
      "  7.52291859e+01  5.65336195e+00  2.56735315e-04  0.00000000e+00\n",
      " -6.74981954e-03 -2.99071913e+01  7.54494038e+01  5.64880659e+00\n",
      "  2.57868194e-04  0.00000000e+00]\n",
      "Episode =   29, score =  -4.542 (best =  13.628)"
     ]
    },
    {
     "ename": "KeyboardInterrupt",
     "evalue": "",
     "output_type": "error",
     "traceback": [
      "\u001b[0;31m---------------------------------------------------------------------------\u001b[0m",
      "\u001b[0;31mKeyboardInterrupt\u001b[0m                         Traceback (most recent call last)",
      "\u001b[0;32m<ipython-input-48-3fe1bd361902>\u001b[0m in \u001b[0;36m<module>\u001b[0;34m()\u001b[0m\n\u001b[1;32m     24\u001b[0m         \u001b[0mnext_state\u001b[0m\u001b[0;34m,\u001b[0m \u001b[0mreward\u001b[0m\u001b[0;34m,\u001b[0m \u001b[0mdone\u001b[0m \u001b[0;34m=\u001b[0m \u001b[0mtask\u001b[0m\u001b[0;34m.\u001b[0m\u001b[0mstep\u001b[0m\u001b[0;34m(\u001b[0m\u001b[0maction\u001b[0m\u001b[0;34m)\u001b[0m\u001b[0;34m\u001b[0m\u001b[0m\n\u001b[1;32m     25\u001b[0m         \u001b[0mscore\u001b[0m \u001b[0;34m+=\u001b[0m \u001b[0mreward\u001b[0m\u001b[0;34m\u001b[0m\u001b[0m\n\u001b[0;32m---> 26\u001b[0;31m         \u001b[0magent\u001b[0m\u001b[0;34m.\u001b[0m\u001b[0mstep\u001b[0m\u001b[0;34m(\u001b[0m\u001b[0maction\u001b[0m\u001b[0;34m,\u001b[0m \u001b[0mreward\u001b[0m\u001b[0;34m,\u001b[0m \u001b[0mnext_state\u001b[0m\u001b[0;34m,\u001b[0m \u001b[0mdone\u001b[0m\u001b[0;34m)\u001b[0m\u001b[0;34m\u001b[0m\u001b[0m\n\u001b[0m\u001b[1;32m     27\u001b[0m         \u001b[0mstate\u001b[0m \u001b[0;34m=\u001b[0m \u001b[0mnext_state\u001b[0m\u001b[0;34m\u001b[0m\u001b[0m\n\u001b[1;32m     28\u001b[0m \u001b[0;34m\u001b[0m\u001b[0m\n",
      "\u001b[0;32m~/Udacity/Quadcopter-Training/agents/agent.py\u001b[0m in \u001b[0;36mstep\u001b[0;34m(self, action, reward, next_state, done)\u001b[0m\n\u001b[1;32m     65\u001b[0m         \u001b[0;32mif\u001b[0m \u001b[0mlen\u001b[0m\u001b[0;34m(\u001b[0m\u001b[0mself\u001b[0m\u001b[0;34m.\u001b[0m\u001b[0mmemory\u001b[0m\u001b[0;34m)\u001b[0m \u001b[0;34m>\u001b[0m \u001b[0mself\u001b[0m\u001b[0;34m.\u001b[0m\u001b[0mbatch_size\u001b[0m\u001b[0;34m:\u001b[0m\u001b[0;34m\u001b[0m\u001b[0m\n\u001b[1;32m     66\u001b[0m             \u001b[0mexperiences\u001b[0m \u001b[0;34m=\u001b[0m \u001b[0mself\u001b[0m\u001b[0;34m.\u001b[0m\u001b[0mmemory\u001b[0m\u001b[0;34m.\u001b[0m\u001b[0msample\u001b[0m\u001b[0;34m(\u001b[0m\u001b[0;34m)\u001b[0m\u001b[0;34m\u001b[0m\u001b[0m\n\u001b[0;32m---> 67\u001b[0;31m             \u001b[0mself\u001b[0m\u001b[0;34m.\u001b[0m\u001b[0mlearn\u001b[0m\u001b[0;34m(\u001b[0m\u001b[0mexperiences\u001b[0m\u001b[0;34m)\u001b[0m\u001b[0;34m\u001b[0m\u001b[0m\n\u001b[0m\u001b[1;32m     68\u001b[0m \u001b[0;34m\u001b[0m\u001b[0m\n\u001b[1;32m     69\u001b[0m         \u001b[0;31m# Roll over last state and action\u001b[0m\u001b[0;34m\u001b[0m\u001b[0;34m\u001b[0m\u001b[0m\n",
      "\u001b[0;32m~/Udacity/Quadcopter-Training/agents/agent.py\u001b[0m in \u001b[0;36mlearn\u001b[0;34m(self, experiences)\u001b[0m\n\u001b[1;32m    100\u001b[0m         \u001b[0;31m# Soft-update target models\u001b[0m\u001b[0;34m\u001b[0m\u001b[0;34m\u001b[0m\u001b[0m\n\u001b[1;32m    101\u001b[0m         \u001b[0mself\u001b[0m\u001b[0;34m.\u001b[0m\u001b[0msoft_update\u001b[0m\u001b[0;34m(\u001b[0m\u001b[0mself\u001b[0m\u001b[0;34m.\u001b[0m\u001b[0mcritic_local\u001b[0m\u001b[0;34m.\u001b[0m\u001b[0mmodel\u001b[0m\u001b[0;34m,\u001b[0m \u001b[0mself\u001b[0m\u001b[0;34m.\u001b[0m\u001b[0mcritic_target\u001b[0m\u001b[0;34m.\u001b[0m\u001b[0mmodel\u001b[0m\u001b[0;34m)\u001b[0m\u001b[0;34m\u001b[0m\u001b[0m\n\u001b[0;32m--> 102\u001b[0;31m         \u001b[0mself\u001b[0m\u001b[0;34m.\u001b[0m\u001b[0msoft_update\u001b[0m\u001b[0;34m(\u001b[0m\u001b[0mself\u001b[0m\u001b[0;34m.\u001b[0m\u001b[0mactor_local\u001b[0m\u001b[0;34m.\u001b[0m\u001b[0mmodel\u001b[0m\u001b[0;34m,\u001b[0m \u001b[0mself\u001b[0m\u001b[0;34m.\u001b[0m\u001b[0mactor_target\u001b[0m\u001b[0;34m.\u001b[0m\u001b[0mmodel\u001b[0m\u001b[0;34m)\u001b[0m\u001b[0;34m\u001b[0m\u001b[0m\n\u001b[0m\u001b[1;32m    103\u001b[0m \u001b[0;34m\u001b[0m\u001b[0m\n\u001b[1;32m    104\u001b[0m     \u001b[0;32mdef\u001b[0m \u001b[0msoft_update\u001b[0m\u001b[0;34m(\u001b[0m\u001b[0mself\u001b[0m\u001b[0;34m,\u001b[0m \u001b[0mlocal_model\u001b[0m\u001b[0;34m,\u001b[0m \u001b[0mtarget_model\u001b[0m\u001b[0;34m)\u001b[0m\u001b[0;34m:\u001b[0m\u001b[0;34m\u001b[0m\u001b[0m\n",
      "\u001b[0;32m~/Udacity/Quadcopter-Training/agents/agent.py\u001b[0m in \u001b[0;36msoft_update\u001b[0;34m(self, local_model, target_model)\u001b[0m\n\u001b[1;32m    110\u001b[0m \u001b[0;34m\u001b[0m\u001b[0m\n\u001b[1;32m    111\u001b[0m         \u001b[0mnew_weights\u001b[0m \u001b[0;34m=\u001b[0m \u001b[0mself\u001b[0m\u001b[0;34m.\u001b[0m\u001b[0mtau\u001b[0m \u001b[0;34m*\u001b[0m \u001b[0mlocal_weights\u001b[0m \u001b[0;34m+\u001b[0m \u001b[0;34m(\u001b[0m\u001b[0;36m1\u001b[0m \u001b[0;34m-\u001b[0m \u001b[0mself\u001b[0m\u001b[0;34m.\u001b[0m\u001b[0mtau\u001b[0m\u001b[0;34m)\u001b[0m \u001b[0;34m*\u001b[0m \u001b[0mtarget_weights\u001b[0m\u001b[0;34m\u001b[0m\u001b[0m\n\u001b[0;32m--> 112\u001b[0;31m         \u001b[0mtarget_model\u001b[0m\u001b[0;34m.\u001b[0m\u001b[0mset_weights\u001b[0m\u001b[0;34m(\u001b[0m\u001b[0mnew_weights\u001b[0m\u001b[0;34m)\u001b[0m\u001b[0;34m\u001b[0m\u001b[0m\n\u001b[0m",
      "\u001b[0;32m~/anaconda3/lib/python3.6/site-packages/keras/engine/network.py\u001b[0m in \u001b[0;36mset_weights\u001b[0;34m(self, weights)\u001b[0m\n\u001b[1;32m    506\u001b[0m                 \u001b[0mtuples\u001b[0m\u001b[0;34m.\u001b[0m\u001b[0mappend\u001b[0m\u001b[0;34m(\u001b[0m\u001b[0;34m(\u001b[0m\u001b[0msw\u001b[0m\u001b[0;34m,\u001b[0m \u001b[0mw\u001b[0m\u001b[0;34m)\u001b[0m\u001b[0;34m)\u001b[0m\u001b[0;34m\u001b[0m\u001b[0m\n\u001b[1;32m    507\u001b[0m             \u001b[0mweights\u001b[0m \u001b[0;34m=\u001b[0m \u001b[0mweights\u001b[0m\u001b[0;34m[\u001b[0m\u001b[0mnum_param\u001b[0m\u001b[0;34m:\u001b[0m\u001b[0;34m]\u001b[0m\u001b[0;34m\u001b[0m\u001b[0m\n\u001b[0;32m--> 508\u001b[0;31m         \u001b[0mK\u001b[0m\u001b[0;34m.\u001b[0m\u001b[0mbatch_set_value\u001b[0m\u001b[0;34m(\u001b[0m\u001b[0mtuples\u001b[0m\u001b[0;34m)\u001b[0m\u001b[0;34m\u001b[0m\u001b[0m\n\u001b[0m\u001b[1;32m    509\u001b[0m \u001b[0;34m\u001b[0m\u001b[0m\n\u001b[1;32m    510\u001b[0m     \u001b[0;34m@\u001b[0m\u001b[0mproperty\u001b[0m\u001b[0;34m\u001b[0m\u001b[0m\n",
      "\u001b[0;32m~/anaconda3/lib/python3.6/site-packages/keras/backend/tensorflow_backend.py\u001b[0m in \u001b[0;36mbatch_set_value\u001b[0;34m(tuples)\u001b[0m\n\u001b[1;32m   2468\u001b[0m             \u001b[0massign_ops\u001b[0m\u001b[0;34m.\u001b[0m\u001b[0mappend\u001b[0m\u001b[0;34m(\u001b[0m\u001b[0massign_op\u001b[0m\u001b[0;34m)\u001b[0m\u001b[0;34m\u001b[0m\u001b[0m\n\u001b[1;32m   2469\u001b[0m             \u001b[0mfeed_dict\u001b[0m\u001b[0;34m[\u001b[0m\u001b[0massign_placeholder\u001b[0m\u001b[0;34m]\u001b[0m \u001b[0;34m=\u001b[0m \u001b[0mvalue\u001b[0m\u001b[0;34m\u001b[0m\u001b[0m\n\u001b[0;32m-> 2470\u001b[0;31m         \u001b[0mget_session\u001b[0m\u001b[0;34m(\u001b[0m\u001b[0;34m)\u001b[0m\u001b[0;34m.\u001b[0m\u001b[0mrun\u001b[0m\u001b[0;34m(\u001b[0m\u001b[0massign_ops\u001b[0m\u001b[0;34m,\u001b[0m \u001b[0mfeed_dict\u001b[0m\u001b[0;34m=\u001b[0m\u001b[0mfeed_dict\u001b[0m\u001b[0;34m)\u001b[0m\u001b[0;34m\u001b[0m\u001b[0m\n\u001b[0m\u001b[1;32m   2471\u001b[0m \u001b[0;34m\u001b[0m\u001b[0m\n\u001b[1;32m   2472\u001b[0m \u001b[0;34m\u001b[0m\u001b[0m\n",
      "\u001b[0;32m~/anaconda3/lib/python3.6/site-packages/keras/backend/tensorflow_backend.py\u001b[0m in \u001b[0;36mget_session\u001b[0;34m()\u001b[0m\n\u001b[1;32m    191\u001b[0m             \u001b[0mcandidate_vars\u001b[0m \u001b[0;34m=\u001b[0m \u001b[0;34m[\u001b[0m\u001b[0;34m]\u001b[0m\u001b[0;34m\u001b[0m\u001b[0m\n\u001b[1;32m    192\u001b[0m             \u001b[0;32mfor\u001b[0m \u001b[0mv\u001b[0m \u001b[0;32min\u001b[0m \u001b[0mvariables\u001b[0m\u001b[0;34m:\u001b[0m\u001b[0;34m\u001b[0m\u001b[0m\n\u001b[0;32m--> 193\u001b[0;31m                 \u001b[0;32mif\u001b[0m \u001b[0;32mnot\u001b[0m \u001b[0mgetattr\u001b[0m\u001b[0;34m(\u001b[0m\u001b[0mv\u001b[0m\u001b[0;34m,\u001b[0m \u001b[0;34m'_keras_initialized'\u001b[0m\u001b[0;34m,\u001b[0m \u001b[0;32mFalse\u001b[0m\u001b[0;34m)\u001b[0m\u001b[0;34m:\u001b[0m\u001b[0;34m\u001b[0m\u001b[0m\n\u001b[0m\u001b[1;32m    194\u001b[0m                     \u001b[0mcandidate_vars\u001b[0m\u001b[0;34m.\u001b[0m\u001b[0mappend\u001b[0m\u001b[0;34m(\u001b[0m\u001b[0mv\u001b[0m\u001b[0;34m)\u001b[0m\u001b[0;34m\u001b[0m\u001b[0m\n\u001b[1;32m    195\u001b[0m             \u001b[0;32mif\u001b[0m \u001b[0mcandidate_vars\u001b[0m\u001b[0;34m:\u001b[0m\u001b[0;34m\u001b[0m\u001b[0m\n",
      "\u001b[0;31mKeyboardInterrupt\u001b[0m: "
     ]
    }
   ],
   "source": [
    "import sys\n",
    "import pandas as pd\n",
    "from agents.agent import DDPG\n",
    "from task import Task\n",
    "    \n",
    "init_pose = np.array([0., 0., 10., 0., 0., 0.])\n",
    "num_episodes = 1000\n",
    "target_pos = np.array([10., 10., 0.])\n",
    "task = Task(init_pose = init_pose, target_pos=target_pos)\n",
    "agent = DDPG(task) \n",
    "\n",
    "best_score = 0\n",
    "average_score = 0\n",
    "\n",
    "for i_episode in range(1, num_episodes+1):\n",
    "    state = agent.reset_episode() # start a new episode\n",
    "    score = 0\n",
    "    \n",
    "    # Initialize visualization class    \n",
    "#     animplot = AnimatedPlot()\n",
    "\n",
    "    while True:\n",
    "        action = agent.act(state) \n",
    "        next_state, reward, done = task.step(action)\n",
    "        score += reward\n",
    "        agent.step(action, reward, next_state, done)\n",
    "        state = next_state\n",
    "        \n",
    "        # Visualize Quadcopter\n",
    "#         animplot.plot(task)\n",
    "        if done:\n",
    "            if score > best_score:\n",
    "                best_score = score\n",
    "            average_score = (average_score * (i_episode - 1) + score) / i_episode\n",
    "            print('position', state)\n",
    "            print(\"\\rEpisode = {:4d}, score = {:7.3f} (best = {:7.3f}, average_score = {:7.3f})\".format(\n",
    "                i_episode, score, best_score, average_score), end=\"\")  # [debug]\n",
    "            break\n",
    "    sys.stdout.flush()"
   ]
  },
  {
   "cell_type": "markdown",
   "metadata": {},
   "source": [
    "This agent should perform very poorly on this task.  And that's where you come in!"
   ]
  },
  {
   "cell_type": "markdown",
   "metadata": {
    "collapsed": true
   },
   "source": [
    "## Define the Task, Design the Agent, and Train Your Agent!\n",
    "\n",
    "Amend `task.py` to specify a task of your choosing.  If you're unsure what kind of task to specify, you may like to teach your quadcopter to takeoff, hover in place, land softly, or reach a target pose.  \n",
    "\n",
    "After specifying your task, use the sample agent in `agents/policy_search.py` as a template to define your own agent in `agents/agent.py`.  You can borrow whatever you need from the sample agent, including ideas on how you might modularize your code (using helper methods like `act()`, `learn()`, `reset_episode()`, etc.).\n",
    "\n",
    "Note that it is **highly unlikely** that the first agent and task that you specify will learn well.  You will likely have to tweak various hyperparameters and the reward function for your task until you arrive at reasonably good behavior.\n",
    "\n",
    "As you develop your agent, it's important to keep an eye on how it's performing. Use the code above as inspiration to build in a mechanism to log/save the total rewards obtained in each episode to file.  If the episode rewards are gradually increasing, this is an indication that your agent is learning."
   ]
  },
  {
   "cell_type": "code",
   "execution_count": null,
   "metadata": {
    "collapsed": true
   },
   "outputs": [],
   "source": [
    "## TODO: Train your agent here."
   ]
  },
  {
   "cell_type": "markdown",
   "metadata": {
    "collapsed": true
   },
   "source": [
    "## Plot the Rewards\n",
    "\n",
    "Once you are satisfied with your performance, plot the episode rewards, either from a single run, or averaged over multiple runs. "
   ]
  },
  {
   "cell_type": "code",
   "execution_count": null,
   "metadata": {
    "collapsed": true
   },
   "outputs": [],
   "source": [
    "## TODO: Plot the rewards."
   ]
  },
  {
   "cell_type": "markdown",
   "metadata": {
    "collapsed": true
   },
   "source": [
    "## Reflections\n",
    "\n",
    "**Question 1**: Describe the task that you specified in `task.py`.  How did you design the reward function?\n",
    "\n",
    "**Answer**:"
   ]
  },
  {
   "cell_type": "markdown",
   "metadata": {},
   "source": [
    "**Question 2**: Discuss your agent briefly, using the following questions as a guide:\n",
    "\n",
    "- What learning algorithm(s) did you try? What worked best for you?\n",
    "- What was your final choice of hyperparameters (such as $\\alpha$, $\\gamma$, $\\epsilon$, etc.)?\n",
    "- What neural network architecture did you use (if any)? Specify layers, sizes, activation functions, etc.\n",
    "\n",
    "**Answer**:"
   ]
  },
  {
   "cell_type": "markdown",
   "metadata": {},
   "source": [
    "**Question 3**: Using the episode rewards plot, discuss how the agent learned over time.\n",
    "\n",
    "- Was it an easy task to learn or hard?\n",
    "- Was there a gradual learning curve, or an aha moment?\n",
    "- How good was the final performance of the agent? (e.g. mean rewards over the last 10 episodes)\n",
    "\n",
    "**Answer**:"
   ]
  },
  {
   "cell_type": "markdown",
   "metadata": {},
   "source": [
    "**Question 4**: Briefly summarize your experience working on this project. You can use the following prompts for ideas.\n",
    "\n",
    "- What was the hardest part of the project? (e.g. getting started, plotting, specifying the task, etc.)\n",
    "- Did you find anything interesting in how the quadcopter or your agent behaved?\n",
    "\n",
    "**Answer**:"
   ]
  }
 ],
 "metadata": {
  "anaconda-cloud": {},
  "kernelspec": {
   "display_name": "Python 3",
   "language": "python",
   "name": "python3"
  },
  "language_info": {
   "codemirror_mode": {
    "name": "ipython",
    "version": 3
   },
   "file_extension": ".py",
   "mimetype": "text/x-python",
   "name": "python",
   "nbconvert_exporter": "python",
   "pygments_lexer": "ipython3",
   "version": "3.6.5"
  }
 },
 "nbformat": 4,
 "nbformat_minor": 2
}
